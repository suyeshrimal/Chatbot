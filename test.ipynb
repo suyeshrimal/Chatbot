{
 "cells": [
  {
   "cell_type": "code",
   "execution_count": 9,
   "id": "01344a3d",
   "metadata": {},
   "outputs": [],
   "source": [
    "from langchain.document_loaders import (\n",
    "    TextLoader,\n",
    "    PyPDFLoader,\n",
    "    Docx2txtLoader,\n",
    "    CSVLoader,\n",
    "    UnstructuredHTMLLoader,  # This one is fairly light\n",
    "    UnstructuredExcelLoader  # Optional – consider replacing\n",
    ")\n",
    "from pathlib import Path\n",
    "from langchain.text_splitter import RecursiveCharacterTextSplitter\n",
    "from langchain.vectorstores import Chroma\n",
    "from langchain_google_genai import GoogleGenerativeAIEmbeddings\n",
    "\n",
    "\n",
    "def choose_loader(file_path):\n",
    "    extension = Path(file_path).suffix.lower()\n",
    "    if extension == \".txt\":\n",
    "        return TextLoader(file_path)\n",
    "    elif extension == \".pdf\":\n",
    "        return PyPDFLoader(file_path)\n",
    "    elif extension == \".html\":\n",
    "        return UnstructuredHTMLLoader(file_path)\n",
    "    elif extension in [\".doc\", \".docx\"]:\n",
    "        return Docx2txtLoader(file_path)\n",
    "    elif extension in [\".csv\"]:\n",
    "        return CSVLoader(file_path)\n",
    "    elif extension in [\".xlsx\", \".xls\"]:\n",
    "        return UnstructuredExcelLoader(file_path)\n",
    "    else:\n",
    "        raise ValueError(f\"Unsupported File Type: {extension}\")\n",
    "    \n",
    "\n",
    "def load_and_embed_documents(file_path):\n",
    "    loader = choose_loader(file_path)\n",
    "    docs = loader.load()\n",
    "    splitter = RecursiveCharacterTextSplitter(chunk_size=1000, chunk_overlap=200)\n",
    "    split_docs = splitter.split_documents(docs)\n",
    "\n",
    "    embeddings = GoogleGenerativeAIEmbeddings(model=\"models/embedding-001\")\n",
    "    db = Chroma.from_documents(split_docs, embedding=embeddings)\n",
    "    return db"
   ]
  },
  {
   "cell_type": "code",
   "execution_count": 14,
   "metadata": {},
   "outputs": [
    {
     "name": "stderr",
     "output_type": "stream",
     "text": [
      "<>:26: SyntaxWarning: invalid escape sequence '\\M'\n",
      "<>:26: SyntaxWarning: invalid escape sequence '\\M'\n",
      "C:\\Users\\1\\AppData\\Local\\Temp\\ipykernel_9412\\1472088525.py:26: SyntaxWarning: invalid escape sequence '\\M'\n",
      "  file_path = \"data\\MyResume.pdf\"\n"
     ]
    },
    {
     "name": "stdout",
     "output_type": "stream",
     "text": [
      "Answer: {'input': 'Explain what the document is about?', 'context': [Document(metadata={'total_pages': 1, 'creationdate': '2024-05-07T03:35:49+00:00', 'moddate': '2024-05-07T03:35:49+00:00', 'author': 'RISHABH NARAYAN', 'creator': 'Microsoft® Word 2016', 'source': 'data\\\\MyResume.pdf', 'producer': 'www.ilovepdf.com', 'page_label': '1', 'page': 0}, page_content=\"solution for users seeking detailed insights into our loan portfolio, borrower profiles, and loan performance. \\n\\uf0b7 It provides a high-level summary of the bank's loan portfolio and monitors the performance of individual \\nloans and assess risk. \\n \\nCERTIFICATIONS \\n\\uf0b7 Advanced Python with Django, Mindrisers\"), Document(metadata={'creator': 'Microsoft® Word 2016', 'creationdate': '2024-05-07T03:35:49+00:00', 'page': 0, 'author': 'RISHABH NARAYAN', 'producer': 'www.ilovepdf.com', 'moddate': '2024-05-07T03:35:49+00:00', 'page_label': '1', 'total_pages': 1, 'source': 'data\\\\MyResume.pdf'}, page_content=\"solution for users seeking detailed insights into our loan portfolio, borrower profiles, and loan performance. \\n\\uf0b7 It provides a high-level summary of the bank's loan portfolio and monitors the performance of individual \\nloans and assess risk. \\n \\nCERTIFICATIONS \\n\\uf0b7 Advanced Python with Django, Mindrisers\"), Document(metadata={'source': 'data\\\\MyResume.pdf', 'page_label': '1', 'total_pages': 1, 'producer': 'www.ilovepdf.com', 'moddate': '2024-05-07T03:35:49+00:00', 'page': 0, 'author': 'RISHABH NARAYAN', 'creator': 'Microsoft® Word 2016', 'creationdate': '2024-05-07T03:35:49+00:00'}, page_content=\"solution for users seeking detailed insights into our loan portfolio, borrower profiles, and loan performance. \\n\\uf0b7 It provides a high-level summary of the bank's loan portfolio and monitors the performance of individual \\nloans and assess risk. \\n \\nCERTIFICATIONS \\n\\uf0b7 Advanced Python with Django, Mindrisers\"), Document(metadata={'total_pages': 1, 'page_label': '1', 'source': 'data\\\\MyResume.pdf', 'creator': 'Microsoft® Word 2016', 'moddate': '2024-05-07T03:35:49+00:00', 'page': 0, 'producer': 'www.ilovepdf.com', 'creationdate': '2024-05-07T03:35:49+00:00', 'author': 'RISHABH NARAYAN'}, page_content=\"solution for users seeking detailed insights into our loan portfolio, borrower profiles, and loan performance. \\n\\uf0b7 It provides a high-level summary of the bank's loan portfolio and monitors the performance of individual \\nloans and assess risk. \\n \\nCERTIFICATIONS \\n\\uf0b7 Advanced Python with Django, Mindrisers\")], 'answer': \"The document describes a solution that provides detailed insights into a bank's loan portfolio.  This solution offers a high-level summary of the entire portfolio, allows for monitoring of individual loan performance, and facilitates risk assessment.  The solution is built using Python and Django, as evidenced by the listed certifications.\"}\n"
     ]
    }
   ],
   "source": [
    "import os\n",
    "from dotenv import load_dotenv,find_dotenv\n",
    "\n",
    "from langchain_core.prompts import ChatPromptTemplate\n",
    "from langchain_google_genai import ChatGoogleGenerativeAI\n",
    "from langchain.chains import create_retrieval_chain\n",
    "from langchain.chains.combine_documents import create_stuff_documents_chain\n",
    "\n",
    "_ = load_dotenv(find_dotenv())\n",
    "\n",
    "gemini_api_key =  os.environ[\"GOOGLE_API_KEY\"]\n",
    "\n",
    "prompt = ChatPromptTemplate.from_template(\n",
    "    \"\"\"\n",
    "    You are a helpful assistant. Use the following context to answer the question at the end.\n",
    "    \n",
    "    Context:\n",
    "    {context}\n",
    "    \n",
    "    Question: {input}\n",
    "    \n",
    "    Answer:\n",
    "    \"\"\"\n",
    ")\n",
    "\n",
    "file_path = \"data\\MyResume.pdf\" \n",
    "db = load_and_embed_documents(file_path)\n",
    "retriever = db.as_retriever()\n",
    "\n",
    "llm = ChatGoogleGenerativeAI(\n",
    "    model = \"gemini-1.5-flash\",\n",
    ")\n",
    "\n",
    "combine_docs_chain = create_stuff_documents_chain(llm=llm, prompt=prompt)\n",
    "\n",
    "# Create the retrieval chain\n",
    "retrieval_chain = create_retrieval_chain(retriever, combine_docs_chain)\n",
    "\n",
    "\n",
    "# 6. Ask your question here (could also be user input)\n",
    "query = \"What is the purpose of this document?\"\n",
    "response = retrieval_chain.invoke({\"input\":\"Explain what the document is about?\"})\n",
    "\n",
    "# 7. Print the answer\n",
    "print(\"Answer:\", response)"
   ]
  },
  {
   "cell_type": "code",
   "execution_count": null,
   "metadata": {},
   "outputs": [],
   "source": []
  },
  {
   "cell_type": "code",
   "execution_count": null,
   "id": "3501cccb",
   "metadata": {},
   "outputs": [],
   "source": []
  },
  {
   "cell_type": "code",
   "execution_count": null,
   "id": "61357cdc",
   "metadata": {},
   "outputs": [],
   "source": []
  },
  {
   "cell_type": "code",
   "execution_count": null,
   "metadata": {},
   "outputs": [],
   "source": []
  },
  {
   "cell_type": "code",
   "execution_count": null,
   "id": "5161f0f9",
   "metadata": {},
   "outputs": [],
   "source": []
  },
  {
   "cell_type": "code",
   "execution_count": null,
   "metadata": {},
   "outputs": [],
   "source": []
  }
 ],
 "metadata": {
  "kernelspec": {
   "display_name": "myenv",
   "language": "python",
   "name": "python3"
  },
  "language_info": {
   "codemirror_mode": {
    "name": "ipython",
    "version": 3
   },
   "file_extension": ".py",
   "mimetype": "text/x-python",
   "name": "python",
   "nbconvert_exporter": "python",
   "pygments_lexer": "ipython3",
   "version": "3.12.3"
  }
 },
 "nbformat": 4,
 "nbformat_minor": 5
}
